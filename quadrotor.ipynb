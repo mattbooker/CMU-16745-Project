{
 "cells": [
  {
   "cell_type": "code",
   "execution_count": 9,
   "metadata": {},
   "outputs": [
    {
     "name": "stderr",
     "output_type": "stream",
     "text": [
      "\u001b[32m\u001b[1m  Activating\u001b[22m\u001b[39m environment at `C:\\Users\\Matthew\\Desktop\\Work\\CMU\\Spring 2023\\Optimal Control\\Project\\Project.toml`\n",
      "\u001b[32m\u001b[1m    Updating\u001b[22m\u001b[39m registry at `C:\\Users\\Matthew\\.julia\\registries\\General`\n",
      "\u001b[32m\u001b[1m    Updating\u001b[22m\u001b[39m git-repo `https://github.com/JuliaRegistries/General.git`\n",
      "\u001b[32m\u001b[1m   Resolving\u001b[22m\u001b[39m package versions...\n",
      "\u001b[32m\u001b[1m  No Changes\u001b[22m\u001b[39m to `C:\\Users\\Matthew\\Desktop\\Work\\CMU\\Spring 2023\\Optimal Control\\Project\\Project.toml`\n",
      "\u001b[32m\u001b[1m  No Changes\u001b[22m\u001b[39m to `C:\\Users\\Matthew\\Desktop\\Work\\CMU\\Spring 2023\\Optimal Control\\Project\\Manifest.toml`\n",
      "\u001b[32m\u001b[1m   Resolving\u001b[22m\u001b[39m package versions...\n",
      "\u001b[32m\u001b[1m  No Changes\u001b[22m\u001b[39m to `C:\\Users\\Matthew\\Desktop\\Work\\CMU\\Spring 2023\\Optimal Control\\Project\\Project.toml`\n",
      "\u001b[32m\u001b[1m  No Changes\u001b[22m\u001b[39m to `C:\\Users\\Matthew\\Desktop\\Work\\CMU\\Spring 2023\\Optimal Control\\Project\\Manifest.toml`\n",
      "\u001b[32m\u001b[1m   Resolving\u001b[22m\u001b[39m package versions...\n",
      "\u001b[32m\u001b[1m  No Changes\u001b[22m\u001b[39m to `C:\\Users\\Matthew\\Desktop\\Work\\CMU\\Spring 2023\\Optimal Control\\Project\\Project.toml`\n",
      "\u001b[32m\u001b[1m  No Changes\u001b[22m\u001b[39m to `C:\\Users\\Matthew\\Desktop\\Work\\CMU\\Spring 2023\\Optimal Control\\Project\\Manifest.toml`\n",
      "\u001b[32m\u001b[1m   Resolving\u001b[22m\u001b[39m package versions...\n",
      "\u001b[32m\u001b[1m  No Changes\u001b[22m\u001b[39m to `C:\\Users\\Matthew\\Desktop\\Work\\CMU\\Spring 2023\\Optimal Control\\Project\\Project.toml`\n",
      "\u001b[32m\u001b[1m  No Changes\u001b[22m\u001b[39m to `C:\\Users\\Matthew\\Desktop\\Work\\CMU\\Spring 2023\\Optimal Control\\Project\\Manifest.toml`\n",
      "\u001b[32m\u001b[1m   Resolving\u001b[22m\u001b[39m package versions...\n",
      "\u001b[32m\u001b[1m  No Changes\u001b[22m\u001b[39m to `C:\\Users\\Matthew\\Desktop\\Work\\CMU\\Spring 2023\\Optimal Control\\Project\\Project.toml`\n",
      "\u001b[32m\u001b[1m  No Changes\u001b[22m\u001b[39m to `C:\\Users\\Matthew\\Desktop\\Work\\CMU\\Spring 2023\\Optimal Control\\Project\\Manifest.toml`\n"
     ]
    }
   ],
   "source": [
    "import Pkg; Pkg.activate(@__DIR__); Pkg.instantiate()\n",
    "Pkg.add(\"Colors\")\n",
    "Pkg.add(\"GeometryBasics\")\n",
    "Pkg.add(\"RobotDynamics\")\n",
    "Pkg.add(\"CoordinateTransformations\")\n",
    "Pkg.add(\"Rotations\")"
   ]
  },
  {
   "cell_type": "code",
   "execution_count": 10,
   "metadata": {},
   "outputs": [
    {
     "name": "stderr",
     "output_type": "stream",
     "text": [
      "\u001b[36m\u001b[1m[ \u001b[22m\u001b[39m\u001b[36m\u001b[1mInfo: \u001b[22m\u001b[39mPrecompiling ControlSystems [a6e380b2-a6ca-5380-bf3e-84a91bcd477e]\n",
      "WARNING: could not import OrdinaryDiffEq.SavedValues into ControlSystems\n",
      "WARNING: could not import OrdinaryDiffEq.SavingCallback into ControlSystems\n"
     ]
    }
   ],
   "source": [
    "using LinearAlgebra\n",
    "using ForwardDiff\n",
    "using BlockDiagonals\n",
    "using ControlSystems"
   ]
  },
  {
   "cell_type": "code",
   "execution_count": 11,
   "metadata": {},
   "outputs": [
    {
     "data": {
      "text/plain": [
       "qtorp (generic function with 1 method)"
      ]
     },
     "execution_count": 11,
     "metadata": {},
     "output_type": "execute_result"
    }
   ],
   "source": [
    "#Quaternion stuff\n",
    "function hat(v)\n",
    "    return [0 -v[3] v[2];\n",
    "            v[3] 0 -v[1];\n",
    "            -v[2] v[1] 0]\n",
    "end\n",
    "function L(q)\n",
    "    s = q[1]\n",
    "    v = q[2:4]\n",
    "    L = [s    -v';\n",
    "         v  s*I+hat(v)]\n",
    "    return L\n",
    "end\n",
    "T = Diagonal([1; -ones(3)])\n",
    "H = [zeros(1,3); I]\n",
    "function qtoQ(q)\n",
    "    return H'*T*L(q)*T*L(q)*H\n",
    "end\n",
    "function G(q)\n",
    "    G = L(q)*H\n",
    "end\n",
    "function rptoq(ϕ)\n",
    "    (1/sqrt(1+ϕ'*ϕ))*[1; ϕ]\n",
    "end\n",
    "function qtorp(q)\n",
    "    q[2:4]/q[1]\n",
    "end"
   ]
  },
  {
   "cell_type": "code",
   "execution_count": 12,
   "metadata": {},
   "outputs": [],
   "source": [
    "#Quadrotor parameters\n",
    "m_q = 0.5\n",
    "m_p = 0.2\n",
    "ℓ = 0.1750\n",
    "J = Diagonal([0.0023, 0.0023, 0.004])\n",
    "g = 9.81\n",
    "kt=1.0\n",
    "km=0.0245\n",
    "g = [0; 0; 9.81]\n",
    "\n",
    "h = 0.05 #20 Hz\n",
    "\n",
    "Nx = 17     # number of states (quaternion)\n",
    "Nx̃ = 16     # number of states (linearized)\n",
    "Nu = 4     # number of controls\n",
    "Tfinal = 5.0 # final time\n",
    "Nt = Int(Tfinal/h)+1    # number of time steps\n",
    "thist = Array(range(0,h*(Nt-1), step=h));"
   ]
  },
  {
   "cell_type": "code",
   "execution_count": 13,
   "metadata": {},
   "outputs": [
    {
     "data": {
      "text/plain": [
       "E (generic function with 1 method)"
      ]
     },
     "execution_count": 13,
     "metadata": {},
     "output_type": "execute_result"
    }
   ],
   "source": [
    "function E(q)\n",
    "    E = BlockDiagonal([1.0*I(3), G(q), 1.0*I(6)])\n",
    "end"
   ]
  },
  {
   "cell_type": "code",
   "execution_count": 81,
   "metadata": {},
   "outputs": [
    {
     "data": {
      "text/plain": [
       "quad_dynamics (generic function with 1 method)"
      ]
     },
     "execution_count": 81,
     "metadata": {},
     "output_type": "execute_result"
    }
   ],
   "source": [
    "function quad_dynamics(x,u)\n",
    "    r_q = x[1:3]\n",
    "    q = x[4:7]/norm(x[4:7]) #normalize q just to be careful\n",
    "    r_l = x[8:9]\n",
    "    v_l = x[10:11]\n",
    "    v_q = x[12:14]\n",
    "    ω = x[15:17]\n",
    "    \n",
    "    ṙ_q = v_q\n",
    "    q̇ = 0.5*G(q)*ω\n",
    "    ṙ_l = v_l\n",
    "        \n",
    "    B = [I; -r_l' / sqrt(ℓ - r_l'*r_l)]\n",
    "    \n",
    "    R_ib = qtoQ(q)' # Rotation from body to world frame '\n",
    "    \n",
    "    # Calculate Control Thrust and Torques\n",
    "    F1 = max(0,kt*u[1])\n",
    "    F2 = max(0,kt*u[2])\n",
    "    F3 = max(0,kt*u[3])\n",
    "    F4 = max(0,kt*u[4])\n",
    "    F_b = [0.; 0.; F1+F2+F3+F4] #total rotor force in body frame\n",
    "    F = -R_ib * F_b # negative since z axis in body frame is down\n",
    "    \n",
    "    M1 = km*u[1]\n",
    "    M2 = km*u[2]\n",
    "    M3 = km*u[3]\n",
    "    M4 = km*u[4]\n",
    "    M_b = [ℓ*(F3-F1), ℓ*(F2-F4), (M1-M2+M3-M4)] #total rotor torque in body frame\n",
    "    # paper has two extra terms one for air drag (we ignore) and another for gyroscopic torque\n",
    "    # Zac seems to ignore gyroscopic but not sure why\n",
    "            \n",
    "    \n",
    "    # TODO: double check Ḃ (I plugged in the scalar form into wolfram alpha and took the derivative)\n",
    "    Ḃ = [0 0; 0 0; ℓ^2 * v_l' / (ℓ^2 - r_l' * r_l)^(3/2)]\n",
    "    ω_skew = hat(ω)\n",
    "\n",
    "    RHS = [m_p * B' * g; (m_q + m_p) * g; zeros(3)] + [zeros(2); F; M_b]    \n",
    "    Const = [-m_p * B' * Ḃ * v_l; m_p * Ḃ * v_l; ω_skew * J * ω]\n",
    "\n",
    "    A = zeros(eltype(x), 8,8)\n",
    "    A[1:2, :] = [m_p*B'*B m_p*B' zeros(2,3)]\n",
    "    A[3:5, :] = [m_p*B (m_q+m_p)*I(3) zeros(3,3)]\n",
    "    A[6:8, :] = [zeros(3,5) J]\n",
    "\n",
    "    derivs = A \\ (RHS - Const)\n",
    "    \n",
    "    return [ṙ_q; q̇; ṙ_l; derivs]\n",
    "end"
   ]
  },
  {
   "cell_type": "code",
   "execution_count": 82,
   "metadata": {},
   "outputs": [
    {
     "data": {
      "text/plain": [
       "quad_dynamics_rk4 (generic function with 1 method)"
      ]
     },
     "execution_count": 82,
     "metadata": {},
     "output_type": "execute_result"
    }
   ],
   "source": [
    "function quad_dynamics_rk4(x,u)\n",
    "    #RK4 integration with zero-order hold on u\n",
    "    f1 = quad_dynamics(x, u)\n",
    "    f2 = quad_dynamics(x + 0.5*h*f1, u)\n",
    "    f3 = quad_dynamics(x + 0.5*h*f2, u)\n",
    "    f4 = quad_dynamics(x + h*f3, u)\n",
    "    xn = x + (h/6.0)*(f1 + 2*f2 + 2*f3 + f4)\n",
    "    xn[4:7] .= xn[4:7]/norm(xn[4:7]) #re-normalize quaternion\n",
    "    return xn\n",
    "end"
   ]
  },
  {
   "cell_type": "code",
   "execution_count": 83,
   "metadata": {},
   "outputs": [
    {
     "data": {
      "text/plain": [
       "17-element Vector{Float64}:\n",
       " 0.0\n",
       " 0.0\n",
       " 1.0\n",
       " 1.0\n",
       " 0.0\n",
       " 0.0\n",
       " 0.0\n",
       " 0.0\n",
       " 0.0\n",
       " 0.0\n",
       " 0.0\n",
       " 0.0\n",
       " 0.0\n",
       " 0.0\n",
       " 0.0\n",
       " 0.0\n",
       " 0.0"
      ]
     },
     "execution_count": 83,
     "metadata": {},
     "output_type": "execute_result"
    }
   ],
   "source": [
    "#Initial Conditions\n",
    "uhover = ((m_q + m_p)*9.81/4)*ones(4)\n",
    "r_q0 = [0.0; 0; 1.0]\n",
    "q0 = [1.0; 0; 0; 0]\n",
    "r_l0 = [0.0; 0.0]\n",
    "v_q0 = zeros(3)\n",
    "v_l0 = zeros(2)\n",
    "ω0 = zeros(3)\n",
    "x0 = [r_q0; q0; r_l0; v_q0; v_l0; ω0];\n",
    "\n",
    "#Dynamics test\n",
    "x1 = quad_dynamics_rk4(x0,uhover)"
   ]
  },
  {
   "cell_type": "code",
   "execution_count": 84,
   "metadata": {},
   "outputs": [],
   "source": [
    "#Linearize dynamics about hover\n",
    "A = ForwardDiff.jacobian(x->quad_dynamics_rk4(x,uhover),x0)\n",
    "B = ForwardDiff.jacobian(u->quad_dynamics_rk4(x0,u),uhover);"
   ]
  },
  {
   "cell_type": "code",
   "execution_count": 85,
   "metadata": {},
   "outputs": [
    {
     "data": {
      "text/plain": [
       "16"
      ]
     },
     "execution_count": 85,
     "metadata": {},
     "output_type": "execute_result"
    }
   ],
   "source": [
    "rank(A)#The naive A matrix will always be rank deficient due to the unit-norm constraint on the quaternion"
   ]
  },
  {
   "cell_type": "code",
   "execution_count": 90,
   "metadata": {},
   "outputs": [
    {
     "name": "stdout",
     "output_type": "stream",
     "text": [
      "Size of A = (17, 17)\n"
     ]
    },
    {
     "ename": "LoadError",
     "evalue": "DimensionMismatch(\"A has dimensions (12, 13) but B has dimensions (17, 17)\")",
     "output_type": "error",
     "traceback": [
      "DimensionMismatch(\"A has dimensions (12, 13) but B has dimensions (17, 17)\")",
      "",
      "Stacktrace:",
      " [1] _check_matmul_dims(A::BlockDiagonal{Float64, AbstractMatrix{Float64}}, B::Matrix{Float64})",
      "   @ BlockDiagonals C:\\Users\\Matthew\\.julia\\packages\\BlockDiagonals\\GHOJZ\\src\\base_maths.jl:93",
      " [2] _mul(B::BlockDiagonal{Float64, AbstractMatrix{Float64}}, x::Matrix{Float64})",
      "   @ BlockDiagonals C:\\Users\\Matthew\\.julia\\packages\\BlockDiagonals\\GHOJZ\\src\\base_maths.jl:108",
      " [3] *",
      "   @ C:\\Users\\Matthew\\.julia\\packages\\BlockDiagonals\\GHOJZ\\src\\base_maths.jl:105 [inlined]",
      " [4] *(::BlockDiagonal{Float64, AbstractMatrix{Float64}}, ::Matrix{Float64}, ::BlockDiagonal{Float64, AbstractMatrix{Float64}})",
      "   @ Base .\\operators.jl:560",
      " [5] top-level scope",
      "   @ In[90]:4"
     ]
    }
   ],
   "source": [
    "println(\"Size of A = \", size(A))\n",
    "\n",
    "#Reduced system\n",
    "Ã = Array(E(q0)'*A*E(q0))\n",
    "B̃ = Array(E(q0)'*B);"
   ]
  },
  {
   "cell_type": "code",
   "execution_count": 91,
   "metadata": {},
   "outputs": [
    {
     "ename": "LoadError",
     "evalue": "UndefVarError: B̃ not defined",
     "output_type": "error",
     "traceback": [
      "UndefVarError: B̃ not defined",
      "",
      "Stacktrace:",
      " [1] top-level scope",
      "   @ In[91]:2"
     ]
    }
   ],
   "source": [
    "#Controlability Matrix\n",
    "C = B̃\n",
    "for k = 1:(Nx-1)\n",
    "    C = [C Ã*C[:,end-(Nu-1):end]]\n",
    "end"
   ]
  },
  {
   "cell_type": "code",
   "execution_count": 15,
   "metadata": {},
   "outputs": [
    {
     "data": {
      "text/plain": [
       "12"
      ]
     },
     "execution_count": 15,
     "metadata": {},
     "output_type": "execute_result"
    }
   ],
   "source": [
    "rank(C) #Reduced system is controllable"
   ]
  },
  {
   "cell_type": "code",
   "execution_count": 16,
   "metadata": {},
   "outputs": [],
   "source": [
    "# Cost weights\n",
    "Q = Array(I(Nx̃));\n",
    "R = Array(.1*I(Nu));"
   ]
  },
  {
   "cell_type": "code",
   "execution_count": 17,
   "metadata": {},
   "outputs": [
    {
     "data": {
      "text/plain": [
       "4×12 Matrix{Float64}:\n",
       " -0.114603     -4.57809e-14  1.1308   7.39451e-14  …  -0.147816      0.681679\n",
       " -9.67035e-14  -0.114603     1.1308   1.39421         -8.87894e-15  -0.681679\n",
       "  0.114603     -6.63817e-14  1.1308   1.74249e-13      0.147816      0.681679\n",
       " -2.35249e-14   0.114603     1.1308  -1.39421          3.70839e-15  -0.681679"
      ]
     },
     "execution_count": 17,
     "metadata": {},
     "output_type": "execute_result"
    }
   ],
   "source": [
    "#LQR Controller\n",
    "K = dlqr(Ã,B̃,Q,R)"
   ]
  },
  {
   "cell_type": "code",
   "execution_count": 18,
   "metadata": {},
   "outputs": [
    {
     "data": {
      "text/plain": [
       "controller (generic function with 1 method)"
      ]
     },
     "execution_count": 18,
     "metadata": {},
     "output_type": "execute_result"
    }
   ],
   "source": [
    "#Feedback controller\n",
    "function controller(x)\n",
    "    \n",
    "    q0 = x0[4:7]\n",
    "    q = x[4:7]\n",
    "    ϕ = qtorp(L(q0)'*q)\n",
    "    \n",
    "    Δx̃ = [x[1:3]-r0; ϕ; x[8:10]-v0; x[11:13]-ω0]\n",
    "    \n",
    "    u = uhover - K*Δx̃\n",
    "end"
   ]
  },
  {
   "cell_type": "code",
   "execution_count": 19,
   "metadata": {},
   "outputs": [],
   "source": [
    "#Simulation\n",
    "uhist = zeros(Nu,Nt)\n",
    "xhist = zeros(Nx,Nt)\n",
    "xhist[:,1] = [r0+randn(3); L(q0)*rptoq([1; 0; 0]); v0; ω0]\n",
    "for k = 1:(Nt-1)\n",
    "    uhist[:,k] = controller(xhist[:,k])\n",
    "    xhist[:,k+1] = quad_dynamics_rk4(xhist[:,k],uhist[:,k])\n",
    "end"
   ]
  },
  {
   "cell_type": "code",
   "execution_count": 20,
   "metadata": {},
   "outputs": [
    {
     "name": "stderr",
     "output_type": "stream",
     "text": [
      "\u001b[36m\u001b[1m[ \u001b[22m\u001b[39m\u001b[36m\u001b[1mInfo: \u001b[22m\u001b[39mPrecompiling RobotZoo [74be38bb-dcc2-4b9e-baf3-d6373cd95f10]\n",
      "\u001b[36m\u001b[1m┌ \u001b[22m\u001b[39m\u001b[36m\u001b[1mInfo: \u001b[22m\u001b[39mMeshCat server started. You can open the visualizer by visiting the following URL in your browser:\n",
      "\u001b[36m\u001b[1m└ \u001b[22m\u001b[39mhttp://127.0.0.1:8700\n"
     ]
    },
    {
     "data": {
      "text/html": [
       "    <div style=\"height: 500px; width: 100%; overflow-x: auto; overflow-y: hidden; resize: both\">\n",
       "    <iframe src=\"http://127.0.0.1:8700\" style=\"width: 100%; height: 100%; border: none\"></iframe>\n",
       "    </div>\n"
      ],
      "text/plain": [
       "MeshCat.DisplayedVisualizer(MeshCat.CoreVisualizer(MeshCat.SceneTrees.SceneNode(nothing, nothing, Dict{String, Vector{UInt8}}(), nothing, Dict{String, MeshCat.SceneTrees.SceneNode}()), Set{Any}(), ip\"127.0.0.1\", 8700))"
      ]
     },
     "execution_count": 20,
     "metadata": {},
     "output_type": "execute_result"
    }
   ],
   "source": [
    "#Set up visualization\n",
    "using MeshCat\n",
    "using StaticArrays\n",
    "using RobotZoo:Quadrotor\n",
    "\n",
    "vis = Visualizer()\n",
    "render(vis)"
   ]
  },
  {
   "cell_type": "code",
   "execution_count": 21,
   "metadata": {},
   "outputs": [
    {
     "data": {
      "text/plain": [
       "visualize! (generic function with 2 methods)"
      ]
     },
     "execution_count": 21,
     "metadata": {},
     "output_type": "execute_result"
    }
   ],
   "source": [
    "using CoordinateTransformations, Rotations, Colors\n",
    "using GeometryBasics\n",
    "import RobotDynamics as RD\n",
    "\n",
    "function set_mesh!(vis, model, L)\n",
    "    \n",
    "    obj = joinpath(@__DIR__, \"quadrotor_scaled.obj\")\n",
    "    \n",
    "    robot_obj = MeshFileGeometry(obj)\n",
    "    quad_mat = MeshPhongMaterial(color=colorant\"black\")\n",
    "    \n",
    "    pole_mat = MeshPhongMaterial(color=colorant\"blue\")\n",
    "    mass_mat = MeshPhongMaterial(color=colorant\"red\")\n",
    "    pole = Cylinder(Point3f0(0,0,0),Point3f0(0,0,-L),0.01f0)\n",
    "    mass = HyperSphere(Point3f0(0,0,-L), 0.05f0)\n",
    "    \n",
    "    \n",
    "    setobject!(vis[\"geom\"][\"quad\"], robot_obj, quad_mat)\n",
    "    setobject!(vis[\"geom\"][\"pole\"], pole, pole_mat)\n",
    "    setobject!(vis[\"geom\"][\"mass\"], mass, mass_mat)\n",
    "end\n",
    "\n",
    "function visualize!(vis, model, x::StaticVector)\n",
    "    px, py, pz = x[1], x[2], x[3]\n",
    "    rot_mat = RD.orientation(model, x)\n",
    "    settransform!(vis[\"geom\"][\"quad\"], compose(Translation(px,py,pz), LinearMap(rot_mat)))\n",
    "    \n",
    "    settransform!(vis[\"geom\"][\"pole\"], compose(Translation(px,py,pz), LinearMap(rot_mat)))\n",
    "    settransform!(vis[\"geom\"][\"mass\"], compose(Translation(px,py,pz), LinearMap(rot_mat)))\n",
    "end\n",
    "\n",
    "function visualize!(vis, model, tf::Real, X)\n",
    "    fps = Int(round((length(X)-1)/tf))\n",
    "    anim = MeshCat.Animation(fps)\n",
    "    x_dim = size(X[1])[1]\n",
    "    for (k,x) in enumerate(X)\n",
    "        atframe(anim, k) do\n",
    "            x = X[k]\n",
    "            visualize!(vis, model, SVector{x_dim}(x)) \n",
    "        end\n",
    "    end\n",
    "    setanimation!(vis, anim)\n",
    "end"
   ]
  },
  {
   "cell_type": "code",
   "execution_count": 22,
   "metadata": {},
   "outputs": [
    {
     "data": {
      "text/plain": [
       "MeshCat Visualizer with path /meshcat/geom/mass at http://127.0.0.1:8700"
      ]
     },
     "execution_count": 22,
     "metadata": {},
     "output_type": "execute_result"
    }
   ],
   "source": [
    "model = Quadrotor()\n",
    "set_mesh!(vis, model, 1)"
   ]
  },
  {
   "cell_type": "code",
   "execution_count": 23,
   "metadata": {},
   "outputs": [],
   "source": [
    "x_dim = size(xhist)[1]\n",
    "X1 = [SVector{x_dim}(x) for x in eachcol(xhist)];\n",
    "visualize!(vis, model, thist[end], X1)"
   ]
  },
  {
   "cell_type": "code",
   "execution_count": null,
   "metadata": {},
   "outputs": [],
   "source": []
  }
 ],
 "metadata": {
  "kernelspec": {
   "display_name": "Julia 1.6.7",
   "language": "julia",
   "name": "julia-1.6"
  },
  "language_info": {
   "file_extension": ".jl",
   "mimetype": "application/julia",
   "name": "julia",
   "version": "1.6.7"
  }
 },
 "nbformat": 4,
 "nbformat_minor": 4
}
